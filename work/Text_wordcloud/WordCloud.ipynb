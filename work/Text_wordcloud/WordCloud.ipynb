{
 "cells": [
  {
   "cell_type": "markdown",
   "metadata": {},
   "source": [
    "## 安裝套件"
   ]
  },
  {
   "cell_type": "code",
   "execution_count": 1,
   "metadata": {
    "ExecuteTime": {
     "end_time": "2021-07-16T05:59:19.798075Z",
     "start_time": "2021-07-16T05:59:15.998596Z"
    }
   },
   "outputs": [
    {
     "name": "stdout",
     "output_type": "stream",
     "text": [
      "Requirement already satisfied: requests in c:\\users\\tibame_t14\\anaconda3\\lib\\site-packages (2.24.0)\n",
      "Requirement already satisfied: urllib3!=1.25.0,!=1.25.1,<1.26,>=1.21.1 in c:\\users\\tibame_t14\\anaconda3\\lib\\site-packages (from requests) (1.25.11)\n",
      "Requirement already satisfied: idna<3,>=2.5 in c:\\users\\tibame_t14\\anaconda3\\lib\\site-packages (from requests) (2.10)\n",
      "Requirement already satisfied: chardet<4,>=3.0.2 in c:\\users\\tibame_t14\\anaconda3\\lib\\site-packages (from requests) (3.0.4)\n",
      "Requirement already satisfied: certifi>=2017.4.17 in c:\\users\\tibame_t14\\anaconda3\\lib\\site-packages (from requests) (2020.6.20)\n"
     ]
    }
   ],
   "source": [
    "!pip install requests"
   ]
  },
  {
   "cell_type": "code",
   "execution_count": 2,
   "metadata": {
    "ExecuteTime": {
     "end_time": "2021-07-16T05:59:25.153143Z",
     "start_time": "2021-07-16T05:59:19.801004Z"
    }
   },
   "outputs": [
    {
     "name": "stdout",
     "output_type": "stream",
     "text": [
      "Requirement already satisfied: feedparser in c:\\users\\tibame_t14\\anaconda3\\lib\\site-packages (6.0.8)\n",
      "Requirement already satisfied: sgmllib3k in c:\\users\\tibame_t14\\anaconda3\\lib\\site-packages (from feedparser) (1.0.0)\n"
     ]
    }
   ],
   "source": [
    "!pip install feedparser"
   ]
  },
  {
   "cell_type": "code",
   "execution_count": 3,
   "metadata": {
    "ExecuteTime": {
     "end_time": "2021-07-16T05:59:29.283877Z",
     "start_time": "2021-07-16T05:59:25.158998Z"
    }
   },
   "outputs": [
    {
     "name": "stdout",
     "output_type": "stream",
     "text": [
      "Requirement already satisfied: lxml in c:\\users\\tibame_t14\\anaconda3\\lib\\site-packages (4.6.1)\n"
     ]
    }
   ],
   "source": [
    "!pip install lxml"
   ]
  },
  {
   "cell_type": "code",
   "execution_count": 4,
   "metadata": {
    "ExecuteTime": {
     "end_time": "2021-07-16T05:59:33.414441Z",
     "start_time": "2021-07-16T05:59:29.286775Z"
    }
   },
   "outputs": [
    {
     "name": "stdout",
     "output_type": "stream",
     "text": [
      "Requirement already satisfied: jieba in c:\\users\\tibame_t14\\anaconda3\\lib\\site-packages (0.42.1)\n"
     ]
    }
   ],
   "source": [
    "!pip install jieba"
   ]
  },
  {
   "cell_type": "markdown",
   "metadata": {},
   "source": [
    "### 下載繁體字的辭典檔"
   ]
  },
  {
   "cell_type": "code",
   "execution_count": 5,
   "metadata": {
    "ExecuteTime": {
     "end_time": "2021-07-16T05:59:33.437374Z",
     "start_time": "2021-07-16T05:59:33.416365Z"
    }
   },
   "outputs": [
    {
     "name": "stderr",
     "output_type": "stream",
     "text": [
      "'wget' 不是內部或外部命令、可執行的程式或批次檔。\n"
     ]
    }
   ],
   "source": [
    "!wget https://github.com/fxsjy/jieba/raw/master/extra_dict/dict.txt.big -O jieba_data/dict.txt.big"
   ]
  },
  {
   "cell_type": "code",
   "execution_count": 6,
   "metadata": {
    "ExecuteTime": {
     "end_time": "2021-07-16T05:59:37.449074Z",
     "start_time": "2021-07-16T05:59:33.439323Z"
    }
   },
   "outputs": [
    {
     "name": "stdout",
     "output_type": "stream",
     "text": [
      "Requirement already satisfied: wordcloud in c:\\users\\tibame_t14\\anaconda3\\lib\\site-packages (1.8.1)\n",
      "Requirement already satisfied: numpy>=1.6.1 in c:\\users\\tibame_t14\\anaconda3\\lib\\site-packages (from wordcloud) (1.19.2)\n",
      "Requirement already satisfied: pillow in c:\\users\\tibame_t14\\anaconda3\\lib\\site-packages (from wordcloud) (8.0.1)\n",
      "Requirement already satisfied: matplotlib in c:\\users\\tibame_t14\\anaconda3\\lib\\site-packages (from wordcloud) (3.3.2)\n",
      "Requirement already satisfied: certifi>=2020.06.20 in c:\\users\\tibame_t14\\anaconda3\\lib\\site-packages (from matplotlib->wordcloud) (2020.6.20)\n",
      "Requirement already satisfied: kiwisolver>=1.0.1 in c:\\users\\tibame_t14\\anaconda3\\lib\\site-packages (from matplotlib->wordcloud) (1.3.0)\n",
      "Requirement already satisfied: python-dateutil>=2.1 in c:\\users\\tibame_t14\\anaconda3\\lib\\site-packages (from matplotlib->wordcloud) (2.8.1)\n",
      "Requirement already satisfied: cycler>=0.10 in c:\\users\\tibame_t14\\anaconda3\\lib\\site-packages (from matplotlib->wordcloud) (0.10.0)\n",
      "Requirement already satisfied: pyparsing!=2.0.4,!=2.1.2,!=2.1.6,>=2.0.3 in c:\\users\\tibame_t14\\anaconda3\\lib\\site-packages (from matplotlib->wordcloud) (2.4.7)\n",
      "Requirement already satisfied: six>=1.5 in c:\\users\\tibame_t14\\anaconda3\\lib\\site-packages (from python-dateutil>=2.1->matplotlib->wordcloud) (1.15.0)\n"
     ]
    }
   ],
   "source": [
    "!pip install wordcloud"
   ]
  },
  {
   "cell_type": "markdown",
   "metadata": {},
   "source": [
    "## 解析 RSS"
   ]
  },
  {
   "cell_type": "code",
   "execution_count": 7,
   "metadata": {
    "ExecuteTime": {
     "end_time": "2021-07-16T05:59:37.561230Z",
     "start_time": "2021-07-16T05:59:37.453924Z"
    }
   },
   "outputs": [],
   "source": [
    "import feedparser"
   ]
  },
  {
   "cell_type": "code",
   "execution_count": 8,
   "metadata": {
    "ExecuteTime": {
     "end_time": "2021-07-16T05:59:37.567117Z",
     "start_time": "2021-07-16T05:59:37.563204Z"
    }
   },
   "outputs": [],
   "source": [
    "rss_url = \"https://money.udn.com/rssfeed/news/1001/5588/10511?ch=money\""
   ]
  },
  {
   "cell_type": "code",
   "execution_count": 9,
   "metadata": {
    "ExecuteTime": {
     "end_time": "2021-07-16T05:59:37.836856Z",
     "start_time": "2021-07-16T05:59:37.569037Z"
    }
   },
   "outputs": [
    {
     "data": {
      "text/plain": [
       "{'bozo': True,\n",
       " 'entries': [{'title': '英媒：俄羅斯密件顯示蒲亭2016年下令助川普勝選',\n",
       "   'title_detail': {'type': 'text/plain',\n",
       "    'language': None,\n",
       "    'base': 'https://money.udn.com/rssfeed/news/1001/5588/10511?ch=money',\n",
       "    'value': '英媒：俄羅斯密件顯示蒲亭2016年下令助川普勝選'},\n",
       "   'links': [{'rel': 'alternate',\n",
       "     'type': 'text/html',\n",
       "     'href': 'https://money.udn.com/money/story/10511/5605400'}],\n",
       "   'link': 'https://money.udn.com/money/story/10511/5605400',\n",
       "   'published': 'Fri, 16 Jul 2021 10:12:21 +0800',\n",
       "   'published_parsed': time.struct_time(tm_year=2021, tm_mon=7, tm_mday=16, tm_hour=2, tm_min=12, tm_sec=21, tm_wday=4, tm_yday=197, tm_isdst=0),\n",
       "   'summary': '英國「衛報」（The Guardian）引用據稱是俄羅斯克里姆林宮外洩的文件報導，俄國總統蒲亭曾在國安會議上批准特務行動...',\n",
       "   'summary_detail': {'type': 'text/html',\n",
       "    'language': None,\n",
       "    'base': 'https://money.udn.com/rssfeed/news/1001/5588/10511?ch=money',\n",
       "    'value': '英國「衛報」（The Guardian）引用據稱是俄羅斯克里姆林宮外洩的文件報導，俄國總統蒲亭曾在國安會議上批准特務行動...'},\n",
       "   'id': 'https://money.udn.com/money/story/10511/5605400',\n",
       "   'guidislink': False},\n",
       "  {'title': '葉倫無意重啟美中經濟對話 前朝做法延續',\n",
       "   'title_detail': {'type': 'text/plain',\n",
       "    'language': None,\n",
       "    'base': 'https://money.udn.com/rssfeed/news/1001/5588/10511?ch=money',\n",
       "    'value': '葉倫無意重啟美中經濟對話 前朝做法延續'},\n",
       "   'links': [{'rel': 'alternate',\n",
       "     'type': 'text/html',\n",
       "     'href': 'https://money.udn.com/money/story/10511/5604903'}],\n",
       "   'link': 'https://money.udn.com/money/story/10511/5604903',\n",
       "   'published': 'Fri, 16 Jul 2021 05:09:01 +0800',\n",
       "   'published_parsed': time.struct_time(tm_year=2021, tm_mon=7, tm_mday=15, tm_hour=21, tm_min=9, tm_sec=1, tm_wday=3, tm_yday=196, tm_isdst=0),\n",
       "   'summary': '<p><img src=\"https://pgw.udn.com.tw/gw/photo.php?u=https://uc.udn.com.tw/photo/2021/07/15/realtime/13048201.jpg&amp;s=Y&amp;x=0&amp;y=0&amp;sw=1280&amp;sh=853&amp;sl=W&amp;fw=180&amp;exp=3600\" /><p>消息人士透露，美國財政部長葉倫無意重啟「美中戰略與經濟對話」，延續前總統川普暫停這個對話管道的做法，凸顯總統拜登對北京的...</p>',\n",
       "   'summary_detail': {'type': 'text/html',\n",
       "    'language': None,\n",
       "    'base': 'https://money.udn.com/rssfeed/news/1001/5588/10511?ch=money',\n",
       "    'value': '<p><img src=\"https://pgw.udn.com.tw/gw/photo.php?u=https://uc.udn.com.tw/photo/2021/07/15/realtime/13048201.jpg&amp;s=Y&amp;x=0&amp;y=0&amp;sw=1280&amp;sh=853&amp;sl=W&amp;fw=180&amp;exp=3600\" /><p>消息人士透露，美國財政部長葉倫無意重啟「美中戰略與經濟對話」，延續前總統川普暫停這個對話管道的做法，凸顯總統拜登對北京的...</p>'},\n",
       "   'id': 'https://money.udn.com/money/story/10511/5604903',\n",
       "   'guidislink': False},\n",
       "  {'title': '為戰勝中國 美國防部將投資15億美元發展AI軍備',\n",
       "   'title_detail': {'type': 'text/plain',\n",
       "    'language': None,\n",
       "    'base': 'https://money.udn.com/rssfeed/news/1001/5588/10511?ch=money',\n",
       "    'value': '為戰勝中國 美國防部將投資15億美元發展AI軍備'},\n",
       "   'links': [{'rel': 'alternate',\n",
       "     'type': 'text/html',\n",
       "     'href': 'https://money.udn.com/money/story/10511/5604668'}],\n",
       "   'link': 'https://money.udn.com/money/story/10511/5604668',\n",
       "   'published': 'Thu, 15 Jul 2021 22:00:30 +0800',\n",
       "   'published_parsed': time.struct_time(tm_year=2021, tm_mon=7, tm_mday=15, tm_hour=14, tm_min=0, tm_sec=30, tm_wday=3, tm_yday=196, tm_isdst=0),\n",
       "   'summary': '美中競爭近年白熱化，跨足多項領域。美國國防部長奧斯汀近日表示，中國欲在2030年前取得AI全球支配地位，美國未來5年將投...',\n",
       "   'summary_detail': {'type': 'text/html',\n",
       "    'language': None,\n",
       "    'base': 'https://money.udn.com/rssfeed/news/1001/5588/10511?ch=money',\n",
       "    'value': '美中競爭近年白熱化，跨足多項領域。美國國防部長奧斯汀近日表示，中國欲在2030年前取得AI全球支配地位，美國未來5年將投...'},\n",
       "   'id': 'https://money.udn.com/money/story/10511/5604668',\n",
       "   'guidislink': False},\n",
       "  {'title': '美軍機來台 中國國防部：將採取一切必要措施',\n",
       "   'title_detail': {'type': 'text/plain',\n",
       "    'language': None,\n",
       "    'base': 'https://money.udn.com/rssfeed/news/1001/5588/10511?ch=money',\n",
       "    'value': '美軍機來台 中國國防部：將採取一切必要措施'},\n",
       "   'links': [{'rel': 'alternate',\n",
       "     'type': 'text/html',\n",
       "     'href': 'https://money.udn.com/money/story/10511/5604101'}],\n",
       "   'link': 'https://money.udn.com/money/story/10511/5604101',\n",
       "   'published': 'Thu, 15 Jul 2021 16:54:29 +0800',\n",
       "   'published_parsed': time.struct_time(tm_year=2021, tm_mon=7, tm_mday=15, tm_hour=8, tm_min=54, tm_sec=29, tm_wday=3, tm_yday=196, tm_isdst=0),\n",
       "   'summary': '美軍一架C-146A專機今天上午飛抵台北松山機場，短暫停留後離去。中國國防部發言人吳謙稍晚稱，「中國人民解放軍保持高度戒...',\n",
       "   'summary_detail': {'type': 'text/html',\n",
       "    'language': None,\n",
       "    'base': 'https://money.udn.com/rssfeed/news/1001/5588/10511?ch=money',\n",
       "    'value': '美軍一架C-146A專機今天上午飛抵台北松山機場，短暫停留後離去。中國國防部發言人吳謙稍晚稱，「中國人民解放軍保持高度戒...'},\n",
       "   'id': 'https://money.udn.com/money/story/10511/5604101',\n",
       "   'guidislink': False},\n",
       "  {'title': '董承濂創造奇幻時刻 疫情紛擾下找回內心寧靜',\n",
       "   'title_detail': {'type': 'text/plain',\n",
       "    'language': None,\n",
       "    'base': 'https://money.udn.com/rssfeed/news/1001/5588/10511?ch=money',\n",
       "    'value': '董承濂創造奇幻時刻 疫情紛擾下找回內心寧靜'},\n",
       "   'links': [{'rel': 'alternate',\n",
       "     'type': 'text/html',\n",
       "     'href': 'https://money.udn.com/money/story/10511/5604060'}],\n",
       "   'link': 'https://money.udn.com/money/story/10511/5604060',\n",
       "   'published': 'Thu, 15 Jul 2021 16:36:24 +0800',\n",
       "   'published_parsed': time.struct_time(tm_year=2021, tm_mon=7, tm_mday=15, tm_hour=8, tm_min=36, tm_sec=24, tm_wday=3, tm_yday=196, tm_isdst=0),\n",
       "   'summary': '台灣藝術家董承濂在洛杉磯舉辦特展，利用日常物件、機械裝置，創造奇幻時刻。他說，疫情紛擾之下，更加體認藝術家使命，希望作品...',\n",
       "   'summary_detail': {'type': 'text/html',\n",
       "    'language': None,\n",
       "    'base': 'https://money.udn.com/rssfeed/news/1001/5588/10511?ch=money',\n",
       "    'value': '台灣藝術家董承濂在洛杉磯舉辦特展，利用日常物件、機械裝置，創造奇幻時刻。他說，疫情紛擾之下，更加體認藝術家使命，希望作品...'},\n",
       "   'id': 'https://money.udn.com/money/story/10511/5604060',\n",
       "   'guidislink': False},\n",
       "  {'title': '制裁中國又一舉 美參院通過禁止進口新疆產品',\n",
       "   'title_detail': {'type': 'text/plain',\n",
       "    'language': None,\n",
       "    'base': 'https://money.udn.com/rssfeed/news/1001/5588/10511?ch=money',\n",
       "    'value': '制裁中國又一舉 美參院通過禁止進口新疆產品'},\n",
       "   'links': [{'rel': 'alternate',\n",
       "     'type': 'text/html',\n",
       "     'href': 'https://money.udn.com/money/story/10511/5602984'}],\n",
       "   'link': 'https://money.udn.com/money/story/10511/5602984',\n",
       "   'published': 'Thu, 15 Jul 2021 11:30:26 +0800',\n",
       "   'published_parsed': time.struct_time(tm_year=2021, tm_mon=7, tm_mday=15, tm_hour=3, tm_min=30, tm_sec=26, tm_wday=3, tm_yday=196, tm_isdst=0),\n",
       "   'summary': '美國聯邦參議院今天通過法案，禁止進口來自中國新疆地區的產品。美國官員認定中國對維吾爾人及其他穆斯林民族採取種族滅絕行動，...',\n",
       "   'summary_detail': {'type': 'text/html',\n",
       "    'language': None,\n",
       "    'base': 'https://money.udn.com/rssfeed/news/1001/5588/10511?ch=money',\n",
       "    'value': '美國聯邦參議院今天通過法案，禁止進口來自中國新疆地區的產品。美國官員認定中國對維吾爾人及其他穆斯林民族採取種族滅絕行動，...'},\n",
       "   'id': 'https://money.udn.com/money/story/10511/5602984',\n",
       "   'guidislink': False},\n",
       "  {'title': '現代紅色電話？拜登政府擬建「美中熱線」、供緊急通話',\n",
       "   'title_detail': {'type': 'text/plain',\n",
       "    'language': None,\n",
       "    'base': 'https://money.udn.com/rssfeed/news/1001/5588/10511?ch=money',\n",
       "    'value': '現代紅色電話？拜登政府擬建「美中熱線」、供緊急通話'},\n",
       "   'links': [{'rel': 'alternate',\n",
       "     'type': 'text/html',\n",
       "     'href': 'https://money.udn.com/money/story/10511/5602610'}],\n",
       "   'link': 'https://money.udn.com/money/story/10511/5602610',\n",
       "   'published': 'Thu, 15 Jul 2021 09:07:21 +0800',\n",
       "   'published_parsed': time.struct_time(tm_year=2021, tm_mon=7, tm_mday=15, tm_hour=1, tm_min=7, tm_sec=21, tm_wday=3, tm_yday=196, tm_isdst=0),\n",
       "   'summary': '<p><img src=\"https://pgw.udn.com.tw/gw/photo.php?u=https://uc.udn.com.tw/photo/2021/07/15/realtime/13038590.jpg&amp;s=Y&amp;x=64&amp;y=0&amp;sw=1152&amp;sh=768&amp;sl=W&amp;fw=180&amp;exp=3600\" /><p>美國拜登政府正研究與中國政府建立一條類似冷戰期間美蘇之間所謂「紅色電話」的緊急熱線，當時該熱線允許與克里姆林宮直接溝通、...</p>',\n",
       "   'summary_detail': {'type': 'text/html',\n",
       "    'language': None,\n",
       "    'base': 'https://money.udn.com/rssfeed/news/1001/5588/10511?ch=money',\n",
       "    'value': '<p><img src=\"https://pgw.udn.com.tw/gw/photo.php?u=https://uc.udn.com.tw/photo/2021/07/15/realtime/13038590.jpg&amp;s=Y&amp;x=64&amp;y=0&amp;sw=1152&amp;sh=768&amp;sl=W&amp;fw=180&amp;exp=3600\" /><p>美國拜登政府正研究與中國政府建立一條類似冷戰期間美蘇之間所謂「紅色電話」的緊急熱線，當時該熱線允許與克里姆林宮直接溝通、...</p>'},\n",
       "   'id': 'https://money.udn.com/money/story/10511/5602610',\n",
       "   'guidislink': False},\n",
       "  {'title': '川規拜隨 葉倫無意重啟美中高層經濟對話',\n",
       "   'title_detail': {'type': 'text/plain',\n",
       "    'language': None,\n",
       "    'base': 'https://money.udn.com/rssfeed/news/1001/5588/10511?ch=money',\n",
       "    'value': '川規拜隨 葉倫無意重啟美中高層經濟對話'},\n",
       "   'links': [{'rel': 'alternate',\n",
       "     'type': 'text/html',\n",
       "     'href': 'https://money.udn.com/money/story/10511/5602551'}],\n",
       "   'link': 'https://money.udn.com/money/story/10511/5602551',\n",
       "   'published': 'Thu, 15 Jul 2021 07:45:21 +0800',\n",
       "   'published_parsed': time.struct_time(tm_year=2021, tm_mon=7, tm_mday=14, tm_hour=23, tm_min=45, tm_sec=21, tm_wday=2, tm_yday=195, tm_isdst=0),\n",
       "   'summary': '<p><img src=\"https://pgw.udn.com.tw/gw/photo.php?u=https://uc.udn.com.tw/photo/2021/07/15/realtime/13037540.jpg&amp;s=Y&amp;x=0&amp;y=0&amp;sw=1280&amp;sh=853&amp;sl=W&amp;fw=180&amp;exp=3600\" /><p>消息人士透露，美國財長葉倫和同僚並未計劃重啟與中國大陸的定期經濟對話，延續前總統川普暫停這項會談的做法。前總統布希和歐巴...</p>',\n",
       "   'summary_detail': {'type': 'text/html',\n",
       "    'language': None,\n",
       "    'base': 'https://money.udn.com/rssfeed/news/1001/5588/10511?ch=money',\n",
       "    'value': '<p><img src=\"https://pgw.udn.com.tw/gw/photo.php?u=https://uc.udn.com.tw/photo/2021/07/15/realtime/13037540.jpg&amp;s=Y&amp;x=0&amp;y=0&amp;sw=1280&amp;sh=853&amp;sl=W&amp;fw=180&amp;exp=3600\" /><p>消息人士透露，美國財長葉倫和同僚並未計劃重啟與中國大陸的定期經濟對話，延續前總統川普暫停這項會談的做法。前總統布希和歐巴...</p>'},\n",
       "   'id': 'https://money.udn.com/money/story/10511/5602551',\n",
       "   'guidislink': False},\n",
       "  {'title': '美拍板537億元補助美企 汰換華為與中興通訊設備',\n",
       "   'title_detail': {'type': 'text/plain',\n",
       "    'language': None,\n",
       "    'base': 'https://money.udn.com/rssfeed/news/1001/5588/10511?ch=money',\n",
       "    'value': '美拍板537億元補助美企 汰換華為與中興通訊設備'},\n",
       "   'links': [{'rel': 'alternate',\n",
       "     'type': 'text/html',\n",
       "     'href': 'https://money.udn.com/money/story/10511/5600220'}],\n",
       "   'link': 'https://money.udn.com/money/story/10511/5600220',\n",
       "   'published': 'Wed, 14 Jul 2021 10:37:23 +0800',\n",
       "   'published_parsed': time.struct_time(tm_year=2021, tm_mon=7, tm_mday=14, tm_hour=2, tm_min=37, tm_sec=23, tm_wday=2, tm_yday=195, tm_isdst=0),\n",
       "   'summary': '<p><img src=\"https://pgw.udn.com.tw/gw/photo.php?u=https://uc.udn.com.tw/photo/2021/07/14/realtime/13019172.png&amp;s=Y&amp;x=0&amp;y=0&amp;sw=926&amp;sh=606&amp;sl=W&amp;fw=180&amp;exp=3600\" /><p>美國聯邦傳播委員會（FCC）在當地時間13日表決通過，拍板19億美元（約新台幣537億元）補助計畫，以協助美國企業汰換華...</p>',\n",
       "   'summary_detail': {'type': 'text/html',\n",
       "    'language': None,\n",
       "    'base': 'https://money.udn.com/rssfeed/news/1001/5588/10511?ch=money',\n",
       "    'value': '<p><img src=\"https://pgw.udn.com.tw/gw/photo.php?u=https://uc.udn.com.tw/photo/2021/07/14/realtime/13019172.png&amp;s=Y&amp;x=0&amp;y=0&amp;sw=926&amp;sh=606&amp;sl=W&amp;fw=180&amp;exp=3600\" /><p>美國聯邦傳播委員會（FCC）在當地時間13日表決通過，拍板19億美元（約新台幣537億元）補助計畫，以協助美國企業汰換華...</p>'},\n",
       "   'id': 'https://money.udn.com/money/story/10511/5600220',\n",
       "   'guidislink': False},\n",
       "  {'title': '拜登提名前國防部官員 掌美中科技戰關鍵職位',\n",
       "   'title_detail': {'type': 'text/plain',\n",
       "    'language': None,\n",
       "    'base': 'https://money.udn.com/rssfeed/news/1001/5588/10511?ch=money',\n",
       "    'value': '拜登提名前國防部官員 掌美中科技戰關鍵職位'},\n",
       "   'links': [{'rel': 'alternate',\n",
       "     'type': 'text/html',\n",
       "     'href': 'https://money.udn.com/money/story/10511/5600124'}],\n",
       "   'link': 'https://money.udn.com/money/story/10511/5600124',\n",
       "   'published': 'Wed, 14 Jul 2021 09:45:26 +0800',\n",
       "   'published_parsed': time.struct_time(tm_year=2021, tm_mon=7, tm_mday=14, tm_hour=1, tm_min=45, tm_sec=26, tm_wday=2, tm_yday=195, tm_isdst=0),\n",
       "   'summary': '美國總統拜登今天提名前國防部官員艾斯特維茲（Alan Estevez）出任美國商務部負責工業暨安全事務的次長；這是美中科...',\n",
       "   'summary_detail': {'type': 'text/html',\n",
       "    'language': None,\n",
       "    'base': 'https://money.udn.com/rssfeed/news/1001/5588/10511?ch=money',\n",
       "    'value': '美國總統拜登今天提名前國防部官員艾斯特維茲（Alan Estevez）出任美國商務部負責工業暨安全事務的次長；這是美中科...'},\n",
       "   'id': 'https://money.udn.com/money/story/10511/5600124',\n",
       "   'guidislink': False},\n",
       "  {'title': '葉倫倡美歐統一戰線對抗中國政經惡行 北京不滿',\n",
       "   'title_detail': {'type': 'text/plain',\n",
       "    'language': None,\n",
       "    'base': 'https://money.udn.com/rssfeed/news/1001/5588/10511?ch=money',\n",
       "    'value': '葉倫倡美歐統一戰線對抗中國政經惡行 北京不滿'},\n",
       "   'links': [{'rel': 'alternate',\n",
       "     'type': 'text/html',\n",
       "     'href': 'https://money.udn.com/money/story/10511/5599739'}],\n",
       "   'link': 'https://money.udn.com/money/story/10511/5599739',\n",
       "   'published': 'Tue, 13 Jul 2021 23:45:22 +0800',\n",
       "   'published_parsed': time.struct_time(tm_year=2021, tm_mon=7, tm_mday=13, tm_hour=15, tm_min=45, tm_sec=22, tm_wday=1, tm_yday=194, tm_isdst=0),\n",
       "   'summary': '美國財政部長葉倫今天呼籲，美國和歐洲應「統一戰線」，對抗中國的「不公平經濟措施」和侵犯人權行徑。這番話引發中國外交部發言...',\n",
       "   'summary_detail': {'type': 'text/html',\n",
       "    'language': None,\n",
       "    'base': 'https://money.udn.com/rssfeed/news/1001/5588/10511?ch=money',\n",
       "    'value': '美國財政部長葉倫今天呼籲，美國和歐洲應「統一戰線」，對抗中國的「不公平經濟措施」和侵犯人權行徑。這番話引發中國外交部發言...'},\n",
       "   'id': 'https://money.udn.com/money/story/10511/5599739',\n",
       "   'guidislink': False},\n",
       "  {'title': '美稱陸在黑山推「債務陷阱外交」 陸外交部批居心不良',\n",
       "   'title_detail': {'type': 'text/plain',\n",
       "    'language': None,\n",
       "    'base': 'https://money.udn.com/rssfeed/news/1001/5588/10511?ch=money',\n",
       "    'value': '美稱陸在黑山推「債務陷阱外交」 陸外交部批居心不良'},\n",
       "   'links': [{'rel': 'alternate',\n",
       "     'type': 'text/html',\n",
       "     'href': 'https://money.udn.com/money/story/10511/5599138'}],\n",
       "   'link': 'https://money.udn.com/money/story/10511/5599138',\n",
       "   'published': 'Tue, 13 Jul 2021 18:23:24 +0800',\n",
       "   'published_parsed': time.struct_time(tm_year=2021, tm_mon=7, tm_mday=13, tm_hour=10, tm_min=23, tm_sec=24, tm_wday=1, tm_yday=194, tm_isdst=0),\n",
       "   'summary': '<p><img src=\"https://pgw.udn.com.tw/gw/photo.php?u=https://uc.udn.com.tw/photo/2021/07/13/realtime/13008354.jpg&amp;s=Y&amp;x=0&amp;y=0&amp;sw=500&amp;sh=337&amp;sl=W&amp;fw=180&amp;exp=3600\" /><p>美國高級官員日前訪問巴爾幹半島的一個國家蒙特內哥羅（大陸稱黑山）期間時稱中國在黑山及西巴爾幹地區推行「債務陷阱外交」。大...</p>',\n",
       "   'summary_detail': {'type': 'text/html',\n",
       "    'language': None,\n",
       "    'base': 'https://money.udn.com/rssfeed/news/1001/5588/10511?ch=money',\n",
       "    'value': '<p><img src=\"https://pgw.udn.com.tw/gw/photo.php?u=https://uc.udn.com.tw/photo/2021/07/13/realtime/13008354.jpg&amp;s=Y&amp;x=0&amp;y=0&amp;sw=500&amp;sh=337&amp;sl=W&amp;fw=180&amp;exp=3600\" /><p>美國高級官員日前訪問巴爾幹半島的一個國家蒙特內哥羅（大陸稱黑山）期間時稱中國在黑山及西巴爾幹地區推行「債務陷阱外交」。大...</p>'},\n",
       "   'id': 'https://money.udn.com/money/story/10511/5599138',\n",
       "   'guidislink': False},\n",
       "  {'title': '拜登政府擬在亞太區推數位貿易協定  制衡中國',\n",
       "   'title_detail': {'type': 'text/plain',\n",
       "    'language': None,\n",
       "    'base': 'https://money.udn.com/rssfeed/news/1001/5588/10511?ch=money',\n",
       "    'value': '拜登政府擬在亞太區推數位貿易協定  制衡中國'},\n",
       "   'links': [{'rel': 'alternate',\n",
       "     'type': 'text/html',\n",
       "     'href': 'https://money.udn.com/money/story/10511/5597474'}],\n",
       "   'link': 'https://money.udn.com/money/story/10511/5597474',\n",
       "   'published': 'Tue, 13 Jul 2021 09:06:23 +0800',\n",
       "   'published_parsed': time.struct_time(tm_year=2021, tm_mon=7, tm_mday=13, tm_hour=1, tm_min=6, tm_sec=23, tm_wday=1, tm_yday=194, tm_isdst=0),\n",
       "   'summary': '<p><img src=\"https://pgw.udn.com.tw/gw/photo.php?u=https://uc.udn.com.tw/photo/2021/07/13/realtime/12999746.jpg&amp;s=Y&amp;x=0&amp;y=0&amp;sw=1280&amp;sh=853&amp;sl=W&amp;fw=180&amp;exp=3600\" /><p>彭博資訊今（13）日報導，知情人士透露，白宮官員正在討論一項涵蓋印太經濟體的「數位貿易協定」（digital trade...</p>',\n",
       "   'summary_detail': {'type': 'text/html',\n",
       "    'language': None,\n",
       "    'base': 'https://money.udn.com/rssfeed/news/1001/5588/10511?ch=money',\n",
       "    'value': '<p><img src=\"https://pgw.udn.com.tw/gw/photo.php?u=https://uc.udn.com.tw/photo/2021/07/13/realtime/12999746.jpg&amp;s=Y&amp;x=0&amp;y=0&amp;sw=1280&amp;sh=853&amp;sl=W&amp;fw=180&amp;exp=3600\" /><p>彭博資訊今（13）日報導，知情人士透露，白宮官員正在討論一項涵蓋印太經濟體的「數位貿易協定」（digital trade...</p>'},\n",
       "   'id': 'https://money.udn.com/money/story/10511/5597474',\n",
       "   'guidislink': False},\n",
       "  {'title': '美國想切斷中國企業金脈 北京助陣加速雙邊脫鉤',\n",
       "   'title_detail': {'type': 'text/plain',\n",
       "    'language': None,\n",
       "    'base': 'https://money.udn.com/rssfeed/news/1001/5588/10511?ch=money',\n",
       "    'value': '美國想切斷中國企業金脈 北京助陣加速雙邊脫鉤'},\n",
       "   'links': [{'rel': 'alternate',\n",
       "     'type': 'text/html',\n",
       "     'href': 'https://money.udn.com/money/story/10511/5596770'}],\n",
       "   'link': 'https://money.udn.com/money/story/10511/5596770',\n",
       "   'published': 'Mon, 12 Jul 2021 20:54:24 +0800',\n",
       "   'published_parsed': time.struct_time(tm_year=2021, tm_mon=7, tm_mday=12, tm_hour=12, tm_min=54, tm_sec=24, tm_wday=0, tm_yday=193, tm_isdst=0),\n",
       "   'summary': '3年來2位美國總統接連努力打壓中國企業到全球最大資本市場美國籌資，如今卻從意想不到的來源獲得助力：中國政府',\n",
       "   'summary_detail': {'type': 'text/html',\n",
       "    'language': None,\n",
       "    'base': 'https://money.udn.com/rssfeed/news/1001/5588/10511?ch=money',\n",
       "    'value': '3年來2位美國總統接連努力打壓中國企業到全球最大資本市場美國籌資，如今卻從意想不到的來源獲得助力：中國政府'},\n",
       "   'id': 'https://money.udn.com/money/story/10511/5596770',\n",
       "   'guidislink': False},\n",
       "  {'title': '美媒稱全球抗疫美國第一   趙立堅：只能表示「呵呵」',\n",
       "   'title_detail': {'type': 'text/plain',\n",
       "    'language': None,\n",
       "    'base': 'https://money.udn.com/rssfeed/news/1001/5588/10511?ch=money',\n",
       "    'value': '美媒稱全球抗疫美國第一   趙立堅：只能表示「呵呵」'},\n",
       "   'links': [{'rel': 'alternate',\n",
       "     'type': 'text/html',\n",
       "     'href': 'https://money.udn.com/money/story/10511/5596282'}],\n",
       "   'link': 'https://money.udn.com/money/story/10511/5596282',\n",
       "   'published': 'Mon, 12 Jul 2021 16:49:00 +0800',\n",
       "   'published_parsed': time.struct_time(tm_year=2021, tm_mon=7, tm_mday=12, tm_hour=8, tm_min=49, tm_sec=0, tm_wday=0, tm_yday=193, tm_isdst=0),\n",
       "   'summary': '<p><img src=\"https://pgw.udn.com.tw/gw/photo.php?u=https://uc.udn.com.tw/photo/2021/07/12/realtime/12988922.jpg&amp;s=Y&amp;x=0&amp;y=0&amp;sw=366&amp;sh=245&amp;sl=W&amp;fw=180&amp;exp=3600\" /><p>大陸外交部發言人趙立堅12日主持例行記者會，有記者提問，彭博社日前發布新一期的全球抗疫排名，美國排名第一，成為全球第一抗疫...</p>',\n",
       "   'summary_detail': {'type': 'text/html',\n",
       "    'language': None,\n",
       "    'base': 'https://money.udn.com/rssfeed/news/1001/5588/10511?ch=money',\n",
       "    'value': '<p><img src=\"https://pgw.udn.com.tw/gw/photo.php?u=https://uc.udn.com.tw/photo/2021/07/12/realtime/12988922.jpg&amp;s=Y&amp;x=0&amp;y=0&amp;sw=366&amp;sh=245&amp;sl=W&amp;fw=180&amp;exp=3600\" /><p>大陸外交部發言人趙立堅12日主持例行記者會，有記者提問，彭博社日前發布新一期的全球抗疫排名，美國排名第一，成為全球第一抗疫...</p>'},\n",
       "   'id': 'https://money.udn.com/money/story/10511/5596282',\n",
       "   'guidislink': False},\n",
       "  {'title': '中國副外長：美國霸權衰落  秀肌肉嚇不倒中國人',\n",
       "   'title_detail': {'type': 'text/plain',\n",
       "    'language': None,\n",
       "    'base': 'https://money.udn.com/rssfeed/news/1001/5588/10511?ch=money',\n",
       "    'value': '中國副外長：美國霸權衰落  秀肌肉嚇不倒中國人'},\n",
       "   'links': [{'rel': 'alternate',\n",
       "     'type': 'text/html',\n",
       "     'href': 'https://money.udn.com/money/story/10511/5592075'}],\n",
       "   'link': 'https://money.udn.com/money/story/10511/5592075',\n",
       "   'published': 'Sat, 10 Jul 2021 12:21:23 +0800',\n",
       "   'published_parsed': time.struct_time(tm_year=2021, tm_mon=7, tm_mday=10, tm_hour=4, tm_min=21, tm_sec=23, tm_wday=5, tm_yday=191, tm_isdst=0),\n",
       "   'summary': '中國副外長樂玉成昨天接受陸媒專訪時稱，美國衰落的不是實力而是霸權，且思想衰落更危險。他還說，美國的霸權心態和冷戰思維，秀...',\n",
       "   'summary_detail': {'type': 'text/html',\n",
       "    'language': None,\n",
       "    'base': 'https://money.udn.com/rssfeed/news/1001/5588/10511?ch=money',\n",
       "    'value': '中國副外長樂玉成昨天接受陸媒專訪時稱，美國衰落的不是實力而是霸權，且思想衰落更危險。他還說，美國的霸權心態和冷戰思維，秀...'},\n",
       "   'id': 'https://money.udn.com/money/story/10511/5592075',\n",
       "   'guidislink': False},\n",
       "  {'title': '陸副外長譏諷美國衰落是霸權的衰落 更是思想的衰落',\n",
       "   'title_detail': {'type': 'text/plain',\n",
       "    'language': None,\n",
       "    'base': 'https://money.udn.com/rssfeed/news/1001/5588/10511?ch=money',\n",
       "    'value': '陸副外長譏諷美國衰落是霸權的衰落 更是思想的衰落'},\n",
       "   'links': [{'rel': 'alternate',\n",
       "     'type': 'text/html',\n",
       "     'href': 'https://money.udn.com/money/story/10511/5591672'}],\n",
       "   'link': 'https://money.udn.com/money/story/10511/5591672',\n",
       "   'published': 'Sat, 10 Jul 2021 09:23:23 +0800',\n",
       "   'published_parsed': time.struct_time(tm_year=2021, tm_mon=7, tm_mday=10, tm_hour=1, tm_min=23, tm_sec=23, tm_wday=5, tm_yday=191, tm_isdst=0),\n",
       "   'summary': '<p><img src=\"https://pgw.udn.com.tw/gw/photo.php?u=https://uc.udn.com.tw/photo/2021/07/10/realtime/12948914.jpg&amp;s=Y&amp;x=0&amp;y=0&amp;sw=600&amp;sh=400&amp;sl=W&amp;fw=180&amp;exp=3600\" /><p>大陸外交部副部長樂玉成接受媒體訪問時，火力全開痛批美國的外交政策與思維。他指出，美國衰落的不是實力而是霸權，而且美國思想...</p>',\n",
       "   'summary_detail': {'type': 'text/html',\n",
       "    'language': None,\n",
       "    'base': 'https://money.udn.com/rssfeed/news/1001/5588/10511?ch=money',\n",
       "    'value': '<p><img src=\"https://pgw.udn.com.tw/gw/photo.php?u=https://uc.udn.com.tw/photo/2021/07/10/realtime/12948914.jpg&amp;s=Y&amp;x=0&amp;y=0&amp;sw=600&amp;sh=400&amp;sl=W&amp;fw=180&amp;exp=3600\" /><p>大陸外交部副部長樂玉成接受媒體訪問時，火力全開痛批美國的外交政策與思維。他指出，美國衰落的不是實力而是霸權，而且美國思想...</p>'},\n",
       "   'id': 'https://money.udn.com/money/story/10511/5591672',\n",
       "   'guidislink': False},\n",
       "  {'title': '美添34實體清單  含14家侵犯新疆人權中國企業',\n",
       "   'title_detail': {'type': 'text/plain',\n",
       "    'language': None,\n",
       "    'base': 'https://money.udn.com/rssfeed/news/1001/5588/10511?ch=money',\n",
       "    'value': '美添34實體清單  含14家侵犯新疆人權中國企業'},\n",
       "   'links': [{'rel': 'alternate',\n",
       "     'type': 'text/html',\n",
       "     'href': 'https://money.udn.com/money/story/10511/5591479'}],\n",
       "   'link': 'https://money.udn.com/money/story/10511/5591479',\n",
       "   'published': 'Sat, 10 Jul 2021 01:06:24 +0800',\n",
       "   'published_parsed': time.struct_time(tm_year=2021, tm_mon=7, tm_mday=9, tm_hour=17, tm_min=6, tm_sec=24, tm_wday=4, tm_yday=190, tm_isdst=0),\n",
       "   'summary': '美國商務部今天增列34家國外實體進入黑名單，包括14個涉嫌在新疆侵犯人權與進行科技監控的中國實體，以及5家支持中國軍事現...',\n",
       "   'summary_detail': {'type': 'text/html',\n",
       "    'language': None,\n",
       "    'base': 'https://money.udn.com/rssfeed/news/1001/5588/10511?ch=money',\n",
       "    'value': '美國商務部今天增列34家國外實體進入黑名單，包括14個涉嫌在新疆侵犯人權與進行科技監控的中國實體，以及5家支持中國軍事現...'},\n",
       "   'id': 'https://money.udn.com/money/story/10511/5591479',\n",
       "   'guidislink': False},\n",
       "  {'title': '美商務部增列新制裁名單 14家大陸企業上榜',\n",
       "   'title_detail': {'type': 'text/plain',\n",
       "    'language': None,\n",
       "    'base': 'https://money.udn.com/rssfeed/news/1001/5588/10511?ch=money',\n",
       "    'value': '美商務部增列新制裁名單 14家大陸企業上榜'},\n",
       "   'links': [{'rel': 'alternate',\n",
       "     'type': 'text/html',\n",
       "     'href': 'https://money.udn.com/money/story/10511/5591120'}],\n",
       "   'link': 'https://money.udn.com/money/story/10511/5591120',\n",
       "   'published': 'Fri, 09 Jul 2021 22:12:23 +0800',\n",
       "   'published_parsed': time.struct_time(tm_year=2021, tm_mon=7, tm_mday=9, tm_hour=14, tm_min=12, tm_sec=23, tm_wday=4, tm_yday=190, tm_isdst=0),\n",
       "   'summary': '<p><img src=\"https://pgw.udn.com.tw/gw/photo.php?u=https://uc.udn.com.tw/photo/2021/04/25/realtime/12172173.jpg&amp;s=Y&amp;x=100&amp;y=0&amp;sw=1080&amp;sh=720&amp;sl=W&amp;fw=180&amp;exp=3600\" /><p>美國商務部的工業和安全局9日增列34家企業進入經濟制裁的黑名單，其中14家位在中國大陸，原因是協助北京在新疆迫害人權，對...</p>',\n",
       "   'summary_detail': {'type': 'text/html',\n",
       "    'language': None,\n",
       "    'base': 'https://money.udn.com/rssfeed/news/1001/5588/10511?ch=money',\n",
       "    'value': '<p><img src=\"https://pgw.udn.com.tw/gw/photo.php?u=https://uc.udn.com.tw/photo/2021/04/25/realtime/12172173.jpg&amp;s=Y&amp;x=100&amp;y=0&amp;sw=1080&amp;sh=720&amp;sl=W&amp;fw=180&amp;exp=3600\" /><p>美國商務部的工業和安全局9日增列34家企業進入經濟制裁的黑名單，其中14家位在中國大陸，原因是協助北京在新疆迫害人權，對...</p>'},\n",
       "   'id': 'https://money.udn.com/money/story/10511/5591120',\n",
       "   'guidislink': False},\n",
       "  {'title': '季辛吉秘密訪問大陸50年 北京舉行紀念活動',\n",
       "   'title_detail': {'type': 'text/plain',\n",
       "    'language': None,\n",
       "    'base': 'https://money.udn.com/rssfeed/news/1001/5588/10511?ch=money',\n",
       "    'value': '季辛吉秘密訪問大陸50年 北京舉行紀念活動'},\n",
       "   'links': [{'rel': 'alternate',\n",
       "     'type': 'text/html',\n",
       "     'href': 'https://money.udn.com/money/story/10511/5590983'}],\n",
       "   'link': 'https://money.udn.com/money/story/10511/5590983',\n",
       "   'published': 'Fri, 09 Jul 2021 20:38:24 +0800',\n",
       "   'published_parsed': time.struct_time(tm_year=2021, tm_mon=7, tm_mday=9, tm_hour=12, tm_min=38, tm_sec=24, tm_wday=4, tm_yday=190, tm_isdst=0),\n",
       "   'summary': '<p><img src=\"https://pgw.udn.com.tw/gw/photo.php?u=https://uc.udn.com.tw/photo/2021/07/09/realtime/12940977.png&amp;s=Y&amp;x=197&amp;y=0&amp;sw=885&amp;sh=591&amp;sl=W&amp;fw=180&amp;exp=3600\" /><p>大陸國家副主席王岐山今日出席前美國國務卿季辛吉秘密訪問中國大陸50年活動。王岐山致詞時指出，當前中美關係正處在關鍵時刻，...</p>',\n",
       "   'summary_detail': {'type': 'text/html',\n",
       "    'language': None,\n",
       "    'base': 'https://money.udn.com/rssfeed/news/1001/5588/10511?ch=money',\n",
       "    'value': '<p><img src=\"https://pgw.udn.com.tw/gw/photo.php?u=https://uc.udn.com.tw/photo/2021/07/09/realtime/12940977.png&amp;s=Y&amp;x=197&amp;y=0&amp;sw=885&amp;sh=591&amp;sl=W&amp;fw=180&amp;exp=3600\" /><p>大陸國家副主席王岐山今日出席前美國國務卿季辛吉秘密訪問中國大陸50年活動。王岐山致詞時指出，當前中美關係正處在關鍵時刻，...</p>'},\n",
       "   'id': 'https://money.udn.com/money/story/10511/5590983',\n",
       "   'guidislink': False}],\n",
       " 'feed': {'title': '經濟日報',\n",
       "  'title_detail': {'type': 'text/plain',\n",
       "   'language': None,\n",
       "   'base': 'https://money.udn.com/rssfeed/news/1001/5588/10511?ch=money',\n",
       "   'value': '經濟日報'},\n",
       "  'links': [{'rel': 'alternate',\n",
       "    'type': 'text/html',\n",
       "    'href': 'https://money.udn.com'}],\n",
       "  'link': 'https://money.udn.com',\n",
       "  'subtitle': '經濟日報(https://money.udn.com)每日透過專業記者群，將即時、熱點、國際、行情、證券、兩岸、產業、酷科技、生技、理財、房產、品味、觀點及商情等等最新資訊彙整成當天重要新聞，提供最新最精闢的內容，為工商業界每日必讀的新聞網站。',\n",
       "  'subtitle_detail': {'type': 'text/html',\n",
       "   'language': None,\n",
       "   'base': 'https://money.udn.com/rssfeed/news/1001/5588/10511?ch=money',\n",
       "   'value': '經濟日報(https://money.udn.com)每日透過專業記者群，將即時、熱點、國際、行情、證券、兩岸、產業、酷科技、生技、理財、房產、品味、觀點及商情等等最新資訊彙整成當天重要新聞，提供最新最精闢的內容，為工商業界每日必讀的新聞網站。'},\n",
       "  'published': 'Fri, 16 Jul 2021 13:55:29 +0800',\n",
       "  'published_parsed': time.struct_time(tm_year=2021, tm_mon=7, tm_mday=16, tm_hour=5, tm_min=55, tm_sec=29, tm_wday=4, tm_yday=197, tm_isdst=0),\n",
       "  'rights': '聯合線上公司著作權所有@copy; udn.com. All Rights Reserved.',\n",
       "  'rights_detail': {'type': 'text/plain',\n",
       "   'language': None,\n",
       "   'base': 'https://money.udn.com/rssfeed/news/1001/5588/10511?ch=money',\n",
       "   'value': '聯合線上公司著作權所有@copy; udn.com. All Rights Reserved.'},\n",
       "  'language': 'zh-TW',\n",
       "  'ttl': '10'},\n",
       " 'headers': {'server': 'u-t-a',\n",
       "  'content-encoding': 'gzip',\n",
       "  'strict-transport-security': 'max-age=15768000',\n",
       "  'x-e': 'Money146',\n",
       "  'access-control-allow-origin': '*',\n",
       "  'access-control-allow-headers': 'Origin, No-Cache, X-Requested-With, If-Modified-Since, Pragma, Last-Modified, Cache-Control, Expires, Content-Type, X-E4M-With',\n",
       "  'content-length': '4160',\n",
       "  'content-type': 'text/xml',\n",
       "  'date': 'Fri, 16 Jul 2021 05:59:35 GMT',\n",
       "  'connection': 'close',\n",
       "  'vary': 'Accept-Encoding',\n",
       "  'set-cookie': 'csrf_cookie_name=62ca71f291ecb05102d9b3f949ffc27e; expires=Fri, 16-Jul-2021 07:59:35 GMT; Max-Age=7200; path=/'},\n",
       " 'href': 'https://money.udn.com/rssfeed/news/1001/5588/10511?ch=money',\n",
       " 'status': 200,\n",
       " 'encoding': 'utf-8',\n",
       " 'bozo_exception': feedparser.exceptions.CharacterEncodingOverride('document declared as us-ascii, but parsed as utf-8'),\n",
       " 'version': 'rss20',\n",
       " 'namespaces': {}}"
      ]
     },
     "execution_count": 9,
     "metadata": {},
     "output_type": "execute_result"
    }
   ],
   "source": [
    "newsFeed = feedparser.parse(rss_url)\n",
    "newsFeed"
   ]
  },
  {
   "cell_type": "markdown",
   "metadata": {},
   "source": [
    "### 查看每個 entry 的 title, url "
   ]
  },
  {
   "cell_type": "code",
   "execution_count": 10,
   "metadata": {
    "ExecuteTime": {
     "end_time": "2021-07-16T05:59:37.847563Z",
     "start_time": "2021-07-16T05:59:37.838780Z"
    }
   },
   "outputs": [
    {
     "name": "stdout",
     "output_type": "stream",
     "text": [
      "1, 英媒：俄羅斯密件顯示蒲亭2016年下令助川普勝選, https://money.udn.com/money/story/10511/5605400\n",
      "2, 葉倫無意重啟美中經濟對話 前朝做法延續, https://money.udn.com/money/story/10511/5604903\n",
      "3, 為戰勝中國 美國防部將投資15億美元發展AI軍備, https://money.udn.com/money/story/10511/5604668\n",
      "4, 美軍機來台 中國國防部：將採取一切必要措施, https://money.udn.com/money/story/10511/5604101\n",
      "5, 董承濂創造奇幻時刻 疫情紛擾下找回內心寧靜, https://money.udn.com/money/story/10511/5604060\n",
      "6, 制裁中國又一舉 美參院通過禁止進口新疆產品, https://money.udn.com/money/story/10511/5602984\n",
      "7, 現代紅色電話？拜登政府擬建「美中熱線」、供緊急通話, https://money.udn.com/money/story/10511/5602610\n",
      "8, 川規拜隨 葉倫無意重啟美中高層經濟對話, https://money.udn.com/money/story/10511/5602551\n",
      "9, 美拍板537億元補助美企 汰換華為與中興通訊設備, https://money.udn.com/money/story/10511/5600220\n",
      "10, 拜登提名前國防部官員 掌美中科技戰關鍵職位, https://money.udn.com/money/story/10511/5600124\n",
      "11, 葉倫倡美歐統一戰線對抗中國政經惡行 北京不滿, https://money.udn.com/money/story/10511/5599739\n",
      "12, 美稱陸在黑山推「債務陷阱外交」 陸外交部批居心不良, https://money.udn.com/money/story/10511/5599138\n",
      "13, 拜登政府擬在亞太區推數位貿易協定  制衡中國, https://money.udn.com/money/story/10511/5597474\n",
      "14, 美國想切斷中國企業金脈 北京助陣加速雙邊脫鉤, https://money.udn.com/money/story/10511/5596770\n",
      "15, 美媒稱全球抗疫美國第一   趙立堅：只能表示「呵呵」, https://money.udn.com/money/story/10511/5596282\n",
      "16, 中國副外長：美國霸權衰落  秀肌肉嚇不倒中國人, https://money.udn.com/money/story/10511/5592075\n",
      "17, 陸副外長譏諷美國衰落是霸權的衰落 更是思想的衰落, https://money.udn.com/money/story/10511/5591672\n",
      "18, 美添34實體清單  含14家侵犯新疆人權中國企業, https://money.udn.com/money/story/10511/5591479\n",
      "19, 美商務部增列新制裁名單 14家大陸企業上榜, https://money.udn.com/money/story/10511/5591120\n",
      "20, 季辛吉秘密訪問大陸50年 北京舉行紀念活動, https://money.udn.com/money/story/10511/5590983\n"
     ]
    }
   ],
   "source": [
    "i = 1\n",
    "for e in newsFeed['entries']:\n",
    "    title = e['title']\n",
    "    link_url = e['links'][0]['href']\n",
    "    print(\"%s, %s, %s\"%(i, title, link_url))\n",
    "    i = i + 1"
   ]
  },
  {
   "cell_type": "markdown",
   "metadata": {},
   "source": [
    "### 解析html可以參考 https://lxml.de/lxmlhtml.html"
   ]
  },
  {
   "cell_type": "markdown",
   "metadata": {},
   "source": [
    "## 開始取得文章"
   ]
  },
  {
   "cell_type": "markdown",
   "metadata": {},
   "source": [
    "### 載入 library"
   ]
  },
  {
   "cell_type": "code",
   "execution_count": 11,
   "metadata": {
    "ExecuteTime": {
     "end_time": "2021-07-16T05:59:39.554176Z",
     "start_time": "2021-07-16T05:59:37.850046Z"
    }
   },
   "outputs": [],
   "source": [
    "import requests\n",
    "from lxml import etree\n",
    "from io import StringIO\n",
    "import jieba\n",
    "import pandas as pd\n",
    "import time\n",
    "import random"
   ]
  },
  {
   "cell_type": "markdown",
   "metadata": {},
   "source": [
    "### 使用繁體辭典"
   ]
  },
  {
   "cell_type": "code",
   "execution_count": 12,
   "metadata": {
    "ExecuteTime": {
     "end_time": "2021-07-16T05:59:39.560929Z",
     "start_time": "2021-07-16T05:59:39.556048Z"
    }
   },
   "outputs": [],
   "source": [
    "#指定辭典檔\n",
    "jieba.set_dictionary('jieba_data/dict.txt.big')"
   ]
  },
  {
   "cell_type": "markdown",
   "metadata": {},
   "source": [
    "### 設定 request header"
   ]
  },
  {
   "cell_type": "code",
   "execution_count": 13,
   "metadata": {
    "ExecuteTime": {
     "end_time": "2021-07-16T05:59:39.584488Z",
     "start_time": "2021-07-16T05:59:39.562469Z"
    }
   },
   "outputs": [],
   "source": [
    "#設定 request header\n",
    "user_agent = \"Mozilla/5.0 (Windows NT 10.0; Win64; x64) AppleWebKit/537.36 (KHTML, like Gecko) Chrome/63.0.3239.132 Safari/537.36\"\n",
    "my_headers = {\n",
    "    'User-Agent': user_agent,\n",
    "    \"accept\": \"text/html,application/xhtml+xml,application/xml;q=0.9,image/webp,image/apng,*/*;q=0.8\",\n",
    "    \"accept-Language\": \"zh-TW,zh;q=0.9,en-US;q=0.8,en;q=0.7\",\n",
    "    \"accept-encoding\": \"gzip, deflate, br\",\n",
    "    \"Connection\": \"keep-alive\",\n",
    "    \"cache-control\": \"no-cache\",\n",
    "    \"Accept-Charset\": \"UTF8,utf-8;q=0.7,*;q=0.7\"\n",
    "}"
   ]
  },
  {
   "cell_type": "markdown",
   "metadata": {},
   "source": [
    "### 先爬文"
   ]
  },
  {
   "cell_type": "code",
   "execution_count": null,
   "metadata": {
    "ExecuteTime": {
     "start_time": "2021-07-16T05:59:16.045Z"
    }
   },
   "outputs": [
    {
     "name": "stdout",
     "output_type": "stream",
     "text": [
      "https://money.udn.com/money/story/10511/5605400\n",
      "sleep time: 8 sec\n",
      "https://money.udn.com/money/story/10511/5604903\n",
      "sleep time: 10 sec\n",
      "https://money.udn.com/money/story/10511/5604668\n",
      "sleep time: 10 sec\n",
      "https://money.udn.com/money/story/10511/5604101\n",
      "sleep time: 4 sec\n",
      "https://money.udn.com/money/story/10511/5604060\n",
      "sleep time: 5 sec\n",
      "https://money.udn.com/money/story/10511/5602984\n",
      "sleep time: 8 sec\n",
      "https://money.udn.com/money/story/10511/5602610\n",
      "sleep time: 6 sec\n",
      "https://money.udn.com/money/story/10511/5602551\n",
      "sleep time: 5 sec\n",
      "https://money.udn.com/money/story/10511/5600220\n",
      "sleep time: 6 sec\n",
      "https://money.udn.com/money/story/10511/5600124\n",
      "sleep time: 6 sec\n",
      "https://money.udn.com/money/story/10511/5599739\n",
      "sleep time: 4 sec\n",
      "https://money.udn.com/money/story/10511/5599138\n",
      "sleep time: 9 sec\n"
     ]
    }
   ],
   "source": [
    "#分解動作\n",
    "\n",
    "#爬文\n",
    "each_article_text_list = []\n",
    "for e in newsFeed['entries']:\n",
    "    url = e['links'][0]['href']\n",
    "    print(url)\n",
    "    r = requests.get(url, headers = my_headers)\n",
    "    if r.status_code == 200:\n",
    "        parse_tree = etree.parse(StringIO(r.text), etree.HTMLParser())\n",
    "        article_elements = parse_tree.xpath('//*[@id=\"article_body\"]//p')\n",
    "        for a_part in article_elements:\n",
    "            if type(a_part.text) is str:\n",
    "                each_article_text_list.append(a_part.text.strip())\n",
    "        sleep_time = random.randint(3,10)\n",
    "        print(\"sleep time: %s sec\"%(sleep_time))\n",
    "        time.sleep(sleep_time)\n",
    "    all_article_text = ''.join(each_article_text_list)\n",
    "all_article_text"
   ]
  },
  {
   "cell_type": "markdown",
   "metadata": {},
   "source": [
    "### 做分詞"
   ]
  },
  {
   "cell_type": "code",
   "execution_count": null,
   "metadata": {
    "ExecuteTime": {
     "start_time": "2021-07-16T05:59:16.048Z"
    }
   },
   "outputs": [],
   "source": [
    "#分詞\n",
    "seg_words_list = jieba.lcut(all_article_text)\n",
    "seg_words_list"
   ]
  },
  {
   "cell_type": "code",
   "execution_count": null,
   "metadata": {
    "ExecuteTime": {
     "start_time": "2021-07-16T05:59:16.051Z"
    }
   },
   "outputs": [],
   "source": [
    "!ls jieba_data"
   ]
  },
  {
   "cell_type": "markdown",
   "metadata": {},
   "source": [
    "### 準備 stop word"
   ]
  },
  {
   "cell_type": "code",
   "execution_count": null,
   "metadata": {
    "ExecuteTime": {
     "start_time": "2021-07-16T05:59:16.054Z"
    }
   },
   "outputs": [],
   "source": [
    "#stop word\n",
    "with open(file='jieba_data/stop_words.txt', mode='r', encoding='utf-8') as file:\n",
    "    stop_words = file.read().split('\\n')\n",
    "stop_words"
   ]
  },
  {
   "cell_type": "markdown",
   "metadata": {},
   "source": [
    "### 準備一個利用stop word過濾後的分詞結果"
   ]
  },
  {
   "cell_type": "code",
   "execution_count": null,
   "metadata": {
    "ExecuteTime": {
     "start_time": "2021-07-16T05:59:16.057Z"
    }
   },
   "outputs": [],
   "source": [
    "#分詞\n",
    "seg_stop_words_list = []\n",
    "seg_words_list = jieba.lcut(all_article_text)\n",
    "for term in seg_words_list:\n",
    "    if term not in stop_words:\n",
    "        seg_stop_words_list.append(term)\n",
    "seg_stop_words_list"
   ]
  },
  {
   "cell_type": "code",
   "execution_count": null,
   "metadata": {
    "ExecuteTime": {
     "start_time": "2021-07-16T05:59:16.060Z"
    }
   },
   "outputs": [],
   "source": [
    "#合併動作 XD\n",
    "each_article_text_list = []\n",
    "seg_words_list = []\n",
    "for e in newsFeed['entries']:\n",
    "    url = e['links'][0]['href']\n",
    "    print(url)\n",
    "    r = requests.get(url, headers = my_headers)\n",
    "    if r.status_code == 200:\n",
    "        parse_tree = etree.parse(StringIO(r.text), etree.HTMLParser())\n",
    "        article_elements = parse_tree.xpath('//article//p')\n",
    "        for a_part in article_elements:\n",
    "            if type(a_part.text) is str:\n",
    "                term = a_part.text.strip()\n",
    "                if term not in stop_words:\n",
    "                    each_article_text_list.append(term)\n",
    "        all_article_text += ''.join(each_article_text_list)\n",
    "        sleep_time = random.randint(3,10)\n",
    "        print(\"sleep time: %s sec\"%(sleep_time))\n",
    "        time.sleep(sleep_time)\n",
    "seg_words_list = jieba.lcut(all_article_text)\n",
    "seg_df = pd.DataFrame(seg_words_list, columns=['seg_word'])\n",
    "print(seg_df)"
   ]
  },
  {
   "cell_type": "markdown",
   "metadata": {},
   "source": [
    "### 載入繪圖相關的 library"
   ]
  },
  {
   "cell_type": "code",
   "execution_count": null,
   "metadata": {
    "ExecuteTime": {
     "start_time": "2021-07-16T05:59:16.062Z"
    }
   },
   "outputs": [],
   "source": [
    "import matplotlib\n",
    "import matplotlib.pyplot as plt\n",
    "from wordcloud import WordCloud, STOPWORDS, ImageColorGenerator\n",
    "print(matplotlib.matplotlib_fname())"
   ]
  },
  {
   "cell_type": "markdown",
   "metadata": {},
   "source": [
    "### 安裝中文字型"
   ]
  },
  {
   "cell_type": "code",
   "execution_count": null,
   "metadata": {
    "ExecuteTime": {
     "start_time": "2021-07-16T05:59:16.064Z"
    }
   },
   "outputs": [],
   "source": [
    "!ls fonts/*.ttf"
   ]
  },
  {
   "cell_type": "code",
   "execution_count": null,
   "metadata": {
    "ExecuteTime": {
     "start_time": "2021-07-16T05:59:16.067Z"
    }
   },
   "outputs": [],
   "source": [
    "#!cat /opt/conda/lib/python3.7/site-packages/matplotlib/mpl-data/matplotlibrc"
   ]
  },
  {
   "cell_type": "markdown",
   "metadata": {},
   "source": [
    "#### 字型檔案是放在 /opt/conda/lib/python3.7/site-packages/matplotlib/mpl-data/fonts/ttf 我們先列出來看一下"
   ]
  },
  {
   "cell_type": "code",
   "execution_count": null,
   "metadata": {
    "ExecuteTime": {
     "start_time": "2021-07-16T05:59:16.069Z"
    }
   },
   "outputs": [],
   "source": [
    "!ls /opt/conda/lib/python3.7/site-packages/matplotlib/mpl-data/fonts/ttf"
   ]
  },
  {
   "cell_type": "markdown",
   "metadata": {},
   "source": [
    "#### 將中文字型檔案放到字型收容的路徑"
   ]
  },
  {
   "cell_type": "code",
   "execution_count": null,
   "metadata": {
    "ExecuteTime": {
     "start_time": "2021-07-16T05:59:16.072Z"
    }
   },
   "outputs": [],
   "source": [
    "!cp fonts/*.ttf /opt/conda/lib/python3.7/site-packages/matplotlib/mpl-data/fonts/ttf "
   ]
  },
  {
   "cell_type": "markdown",
   "metadata": {},
   "source": [
    "#### 檢查一下結果"
   ]
  },
  {
   "cell_type": "code",
   "execution_count": null,
   "metadata": {
    "ExecuteTime": {
     "start_time": "2021-07-16T05:59:16.074Z"
    },
    "scrolled": true
   },
   "outputs": [],
   "source": [
    "!ls /opt/conda/lib/python3.7/site-packages/matplotlib/mpl-data/fonts/ttf"
   ]
  },
  {
   "cell_type": "markdown",
   "metadata": {},
   "source": [
    "#### 清除 matplotlib 快取"
   ]
  },
  {
   "cell_type": "code",
   "execution_count": null,
   "metadata": {
    "ExecuteTime": {
     "start_time": "2021-07-16T05:59:16.077Z"
    }
   },
   "outputs": [],
   "source": [
    "print(matplotlib.get_configdir())"
   ]
  },
  {
   "cell_type": "code",
   "execution_count": null,
   "metadata": {
    "ExecuteTime": {
     "start_time": "2021-07-16T05:59:16.079Z"
    }
   },
   "outputs": [],
   "source": [
    "!ls -la /home/jovyan/.config/matplotlib"
   ]
  },
  {
   "cell_type": "code",
   "execution_count": null,
   "metadata": {
    "ExecuteTime": {
     "start_time": "2021-07-16T05:59:16.082Z"
    }
   },
   "outputs": [],
   "source": [
    "print(matplotlib.get_cachedir())"
   ]
  },
  {
   "cell_type": "code",
   "execution_count": null,
   "metadata": {
    "ExecuteTime": {
     "start_time": "2021-07-16T05:59:16.084Z"
    }
   },
   "outputs": [],
   "source": [
    "!rm -rf /home/jovyan/.cache/matplotlib"
   ]
  },
  {
   "cell_type": "code",
   "execution_count": null,
   "metadata": {
    "ExecuteTime": {
     "start_time": "2021-07-16T05:59:16.086Z"
    }
   },
   "outputs": [],
   "source": [
    "#用來顯示中文\n",
    "plt.rcParams['font.sans-serif']=['SimHei']\n",
    "#用來顯示負號\n",
    "plt.rcParams['axes.unicode_minus']=False"
   ]
  },
  {
   "cell_type": "markdown",
   "metadata": {},
   "source": [
    "#### 其他 FAQ 可以參考 https://matplotlib.org/3.1.1/faq/troubleshooting_faq.html"
   ]
  },
  {
   "cell_type": "markdown",
   "metadata": {},
   "source": [
    "### 繪製文字雲 ( wordcloud.generate )"
   ]
  },
  {
   "cell_type": "code",
   "execution_count": null,
   "metadata": {
    "ExecuteTime": {
     "start_time": "2021-07-16T05:59:16.090Z"
    }
   },
   "outputs": [],
   "source": [
    "# wordcloud.generate 參數是吃文字內容，以空白為文字區隔\n",
    "seg_words = ' '.join(seg_words_list)\n",
    "#seg_words"
   ]
  },
  {
   "cell_type": "code",
   "execution_count": null,
   "metadata": {
    "ExecuteTime": {
     "start_time": "2021-07-16T05:59:16.094Z"
    }
   },
   "outputs": [],
   "source": [
    "#不同字型\n",
    "wordcloud = WordCloud(font_path='fonts/SimHei.ttf').generate(seg_words)\n",
    "plt.imshow(wordcloud, interpolation='bilinear')\n",
    "plt.axis(\"off\")\n",
    "plt.show()"
   ]
  },
  {
   "cell_type": "code",
   "execution_count": null,
   "metadata": {
    "ExecuteTime": {
     "start_time": "2021-07-16T05:59:16.097Z"
    }
   },
   "outputs": [],
   "source": [
    "#不同字型\n",
    "wordcloud = WordCloud(font_path='fonts/TaipeiSansTCBeta-Regular.ttf').generate(seg_words)\n",
    "plt.imshow(wordcloud, interpolation='bilinear')\n",
    "plt.axis(\"off\")\n",
    "plt.show()"
   ]
  },
  {
   "cell_type": "markdown",
   "metadata": {},
   "source": [
    "### 繪製文字雲 ( wordcloud.generate_from_frequencies )"
   ]
  },
  {
   "cell_type": "code",
   "execution_count": null,
   "metadata": {
    "ExecuteTime": {
     "start_time": "2021-07-16T05:59:16.100Z"
    }
   },
   "outputs": [],
   "source": [
    "# https://docs.python.org/zh-tw/3/library/collections.html\n",
    "# 準備一個沒有經過stop word 處理的 counter\n",
    "from collections import Counter\n",
    "seg_counter = Counter(seg_words_list)\n",
    "seg_counter"
   ]
  },
  {
   "cell_type": "code",
   "execution_count": null,
   "metadata": {
    "ExecuteTime": {
     "start_time": "2021-07-16T05:59:16.105Z"
    }
   },
   "outputs": [],
   "source": [
    "# 準備一個有經過stop word 處理的 counter\n",
    "from collections import Counter\n",
    "seg_stop_counter = Counter(seg_stop_words_list)\n",
    "#seg_stop_counter"
   ]
  },
  {
   "cell_type": "code",
   "execution_count": null,
   "metadata": {
    "ExecuteTime": {
     "start_time": "2021-07-16T05:59:16.108Z"
    }
   },
   "outputs": [],
   "source": [
    "#沒有處理stop words\n",
    "wordcloud = WordCloud(font_path='fonts/TaipeiSansTCBeta-Regular.ttf').generate_from_frequencies(seg_counter)\n",
    "plt.imshow(wordcloud, interpolation='bilinear')\n",
    "plt.axis(\"off\")\n",
    "plt.show()"
   ]
  },
  {
   "cell_type": "code",
   "execution_count": null,
   "metadata": {
    "ExecuteTime": {
     "start_time": "2021-07-16T05:59:16.111Z"
    }
   },
   "outputs": [],
   "source": [
    "#有處理stop words\n",
    "wordcloud = WordCloud(font_path='fonts/TaipeiSansTCBeta-Regular.ttf').generate_from_frequencies(seg_stop_counter)\n",
    "plt.imshow(wordcloud, interpolation='bilinear')\n",
    "plt.axis(\"off\")\n",
    "plt.show()"
   ]
  },
  {
   "cell_type": "markdown",
   "metadata": {},
   "source": [
    "### [其他] 用dataframe 處理數據"
   ]
  },
  {
   "cell_type": "code",
   "execution_count": null,
   "metadata": {
    "ExecuteTime": {
     "start_time": "2021-07-16T05:59:16.114Z"
    }
   },
   "outputs": [],
   "source": [
    "seg_df = pd.DataFrame(seg_words_list, columns=['seg_word'])\n",
    "seg_df"
   ]
  },
  {
   "cell_type": "code",
   "execution_count": null,
   "metadata": {
    "ExecuteTime": {
     "start_time": "2021-07-16T05:59:16.118Z"
    }
   },
   "outputs": [],
   "source": [
    "seg_df['count'] = 1\n",
    "seg_freq_df = seg_df.groupby('seg_word').sum()\n",
    "seg_freq_df"
   ]
  },
  {
   "cell_type": "code",
   "execution_count": null,
   "metadata": {
    "ExecuteTime": {
     "start_time": "2021-07-16T05:59:16.123Z"
    }
   },
   "outputs": [],
   "source": [
    "seg_df.groupby('seg_word').sum().plot.bar()\n",
    "plt.xticks(rotation=50)\n",
    "plt.show()"
   ]
  },
  {
   "cell_type": "markdown",
   "metadata": {},
   "source": [
    "### [其他] parse html 小筆記"
   ]
  },
  {
   "cell_type": "code",
   "execution_count": null,
   "metadata": {
    "ExecuteTime": {
     "start_time": "2021-07-16T05:59:16.126Z"
    }
   },
   "outputs": [],
   "source": [
    "import requests\n",
    "from lxml import etree\n",
    "import jieba\n",
    "from io import StringIO\n",
    "import pandas as pd\n",
    "\n",
    "for e in newsFeed['entries']:\n",
    "    url = e['links'][0]['href']\n",
    "    print(url)\n",
    "    r = requests.get(url)\n",
    "    #print(r.status_code == 200)\n",
    "    if r.status_code == 200:\n",
    "        html_tree = etree.HTML(r.text)\n",
    "        print(html_tree)\n",
    "        html_ele = html_tree.xpath('//article//p')\n",
    "        all_ele = [ (ele.text.strip()) for ele in html_ele if type(ele.text) is str ]\n",
    "        all_ele_string = ''.join(all_ele)\n",
    "        seg_words = jieba.lcut(all_ele_string)\n",
    "        seg_df = pd.DataFrame(seg_words, columns=['seg_word'])\n",
    "        seg_df['count'] = 1\n",
    "        print(seg_df)"
   ]
  }
 ],
 "metadata": {
  "kernelspec": {
   "display_name": "Python 3",
   "language": "python",
   "name": "python3"
  },
  "language_info": {
   "codemirror_mode": {
    "name": "ipython",
    "version": 3
   },
   "file_extension": ".py",
   "mimetype": "text/x-python",
   "name": "python",
   "nbconvert_exporter": "python",
   "pygments_lexer": "ipython3",
   "version": "3.8.5"
  },
  "toc": {
   "base_numbering": 1,
   "nav_menu": {},
   "number_sections": true,
   "sideBar": true,
   "skip_h1_title": false,
   "title_cell": "Table of Contents",
   "title_sidebar": "Contents",
   "toc_cell": false,
   "toc_position": {},
   "toc_section_display": true,
   "toc_window_display": false
  },
  "varInspector": {
   "cols": {
    "lenName": 16,
    "lenType": 16,
    "lenVar": 40
   },
   "kernels_config": {
    "python": {
     "delete_cmd_postfix": "",
     "delete_cmd_prefix": "del ",
     "library": "var_list.py",
     "varRefreshCmd": "print(var_dic_list())"
    },
    "r": {
     "delete_cmd_postfix": ") ",
     "delete_cmd_prefix": "rm(",
     "library": "var_list.r",
     "varRefreshCmd": "cat(var_dic_list()) "
    }
   },
   "types_to_exclude": [
    "module",
    "function",
    "builtin_function_or_method",
    "instance",
    "_Feature"
   ],
   "window_display": false
  }
 },
 "nbformat": 4,
 "nbformat_minor": 4
}
